{
  "cells": [
    {
      "cell_type": "markdown",
      "metadata": {
        "id": "FMqboNwO4rVs"
      },
      "source": [
        "# **Курс \"Програмування на мові Python\"**"
      ]
    },
    {
      "cell_type": "markdown",
      "metadata": {
        "id": "A2T6MigL5Z06"
      },
      "source": [
        "## **Практичне зайняття №10**\n",
        "\n",
        "### Тема: \"Лямбда-функції. Функції вищих порядків\""
      ]
    },
    {
      "cell_type": "markdown",
      "metadata": {
        "id": "cfCdgK2zXm7e"
      },
      "source": [
        "### **Завдання 1 (1 бал)**\n",
        "\n",
        "Продавець роздрібного товару влаштовує розпродаж. Для всіх товарів знижка однакова - 60%. Щоб вивісити нові цінники, продавець хоче скласти таблицю, в якій для кожного товару буде підрахована його нова вартість та сума знижки.\n",
        "\n",
        "Написати програму, яка буде генерувати таку таблицю. Вартість одиниць товарів до розпродажу подано у списку products_list. \n",
        "\n",
        "1. Для підрахунку невідомих значень повинні використовуватись вбудовані функції вищих порядків.\n",
        "\n",
        "2. Вартість з урахуванням знижки та суми знижок для кожного товару повинні зберігатись у двох окремих списках. Порядок товарів у нових списках повинен бути такий самий, як і в списку products_list.\n",
        "\n",
        "3. Кожне підраховане числове значення має бути округлене до сотих.\n",
        "\n",
        "4. Дані повинні виводитись у вигляді:\n",
        "\n",
        "**Discount table:**\n",
        "\n",
        "**29.25 11.7 17.55**\n",
        "\n",
        "**48.99 19.6 29.39**\n",
        "\n",
        "**...**\n",
        "\n",
        "\n",
        "products_list = [29.25, 48.99, 99.98, 124.65, 214.30, 543.90, 799.85]\n"
      ]
    },
    {
      "cell_type": "code",
      "execution_count": 1,
      "metadata": {
        "id": "ifNX2M7LXm7f"
      },
      "outputs": [
        {
          "name": "stdout",
          "output_type": "stream",
          "text": [
            "Discount table:\n",
            "\n",
            " [29.25, 48.99, 99.98, 124.65, 214.3, 543.9, 799.85] \n",
            " [11.7, 19.6, 39.99, 49.86, 85.72, 217.56, 319.94] \n",
            " [17.55, 29.39, 59.99, 74.79, 128.58, 326.34, 479.91]\n"
          ]
        }
      ],
      "source": [
        "pr_list = [29.25, 48.99, 99.98, 124.65, 214.30, 543.90, 799.85]\n",
        "\n",
        "print(\"Discount table:\\n\")\n",
        "char = list(map(lambda i: round(i * 0.4, 2), pr_list))\n",
        "sale = list(map(lambda i: round(i * 0.6, 2), pr_list))\n",
        "\n",
        "print(\"\", pr_list, \"\\n\", char, \"\\n\", sale)"
      ]
    },
    {
      "cell_type": "markdown",
      "metadata": {},
      "source": [
        "### **Завдання 2 (2 бали)**\n",
        "\n",
        "Зазвичай рік має 365 днів. Однак у високосні роки додається ще один день - 29 лютого. Правила визначення високосного року такі:\n",
        "\n",
        "- Будь-який рік, що ділиться на 400 - високосний.\n",
        "\n",
        "- З тих років, що залишились, будь-який рік, що ділиться на 100 - **не** високосний.\n",
        "\n",
        "- З тих років, що залишились, будь-який рік, що ділиться на 4 - високосний.\n",
        "\n",
        "- Усі інші роки, що залишились - **не** високосні.\n",
        "\n",
        "1) Створіть функцію, в якій за допомогою вбудованих функцій вищих порядків будуть визначатися високосні роки серед перелічених років у списку years. Створена функція має повертати список високосних років.\n",
        "\n",
        "2) Створіть функцію вищих порядків, яка прийматиме на вхід попередню функцію та визначатиме кількість днів у місяці. Також функція повинна приймати на вхід ще 2 параметри: ціле число від 1 до 12 (місяць) та рік, як ціле чотирицифрове число. Ці значення корисувач має вводити з клавіатури. Перевірку введених даних слід виконувати поза межами функцій."
      ]
    },
    {
      "cell_type": "code",
      "execution_count": 1,
      "metadata": {},
      "outputs": [
        {
          "name": "stdout",
          "output_type": "stream",
          "text": [
            "Список високосних років: [1900, 1904, 1908, 1912, 1916, 1920, 1924, 1928, 1932, 1936, 1940, 1944, 1948, 1952, 1956, 1960, 1964, 1968, 1972, 1976, 1980, 1984, 1988, 1992, 1996, 2000, 2004, 2008, 2012, 2016, 2020]\n",
            "Number of days in this month: 29\n"
          ]
        }
      ],
      "source": [
        "import numpy as np\n",
        "\n",
        "years = np.arange(1900, 2020+1, 1)\n",
        "\n",
        "def styear(x):\n",
        "    return list(filter(lambda i: (i % 400  and i % 4) == 0, x))\n",
        "print(\"Список високосних років:\", styear(years))\n",
        "\n",
        "z = 31 #1, 3, 5, 7, 8, 10, 12\n",
        "x = 30 #4, 6, 9, 11\n",
        "c = 29 #2 високосний\n",
        "y = 28 #2 звичайний\n",
        "\n",
        "while 1:\n",
        "    while 1:\n",
        "        def days(year, month, stryears):\n",
        "            if month in [1,3,5,7,8,10,12]:\n",
        "                return z\n",
        "            elif month in [4,6,9,11]:\n",
        "                return x\n",
        "            elif month == 2:\n",
        "                if year in styear (stryears):\n",
        "                    return c  \n",
        "                else:\n",
        "                    return y\n",
        "        try:\n",
        "            month=int(input('Input month:'))\n",
        "            year=int(input('Input year:'))\n",
        "            if month not in range(1,13):\n",
        "                raise ValueError\n",
        "            if year not in range(1000, 9999):\n",
        "                raise ValueError\n",
        "            print('Number of days in this month:', (days(year, month, styear(years))))\n",
        "        except ValueError:\n",
        "            print('You input an incorrect value.')\n",
        "            continue\n",
        "        break\n",
        "        \n",
        "    answer = input(\"Повторити тестування? \\n Вкажіть '1' або '2':  \")\n",
        "    if answer =='1':\n",
        "        continue\n",
        "    elif answer=='2':\n",
        "        break\n",
        "    else:\n",
        "        print('Перевірте введені дані та спробуйте ще раз.')   "
      ]
    }
  ],
  "metadata": {
    "colab": {
      "collapsed_sections": [],
      "name": "Practice_7_KM-01_.ipynb",
      "provenance": []
    },
    "interpreter": {
      "hash": "96c0616e455b644c5ce18d1e0babcdc98bb4a69eebafdd9c5b661fef8039df59"
    },
    "kernelspec": {
      "display_name": "Python 3.10.0 64-bit",
      "name": "python3"
    },
    "language_info": {
      "codemirror_mode": {
        "name": "ipython",
        "version": 3
      },
      "file_extension": ".py",
      "mimetype": "text/x-python",
      "name": "python",
      "nbconvert_exporter": "python",
      "pygments_lexer": "ipython3",
      "version": "3.10.0"
    }
  },
  "nbformat": 4,
  "nbformat_minor": 0
}
