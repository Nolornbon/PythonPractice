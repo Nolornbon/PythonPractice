{
  "nbformat": 4,
  "nbformat_minor": 2,
  "metadata": {
    "colab": {
      "name": "Pranctice_3_KM-01_<name>.ipynb",
      "provenance": [],
      "collapsed_sections": []
    },
    "kernelspec": {
      "name": "python3",
      "display_name": "Python 3.9.1 64-bit (system)"
    },
    "language_info": {
      "name": "python",
      "version": "3.9.1",
      "mimetype": "text/x-python",
      "codemirror_mode": {
        "name": "ipython",
        "version": 3
      },
      "pygments_lexer": "ipython3",
      "nbconvert_exporter": "python",
      "file_extension": ".py"
    },
    "interpreter": {
      "hash": "fe441a78662917157ee0a3bf5d35d344016f5c325e042b313a07027e8b1f32e7"
    }
  },
  "cells": [
    {
      "cell_type": "markdown",
      "source": [
        "# **Курс \"Програмування на мові Python\"**"
      ],
      "metadata": {
        "id": "1bRxWHr5e8kt"
      }
    },
    {
      "cell_type": "markdown",
      "source": [
        "## **Практичне зайняття №3**\n",
        "### Тема: \"Перші програми на Python. Введення та виведення даних. Інструкція if\""
      ],
      "metadata": {
        "id": "buZUwUgFe-kx"
      }
    },
    {
      "cell_type": "markdown",
      "source": [
        "### **Завдання 1 (1,5 бали)**\n",
        "\n"
      ],
      "metadata": {
        "id": "PUkxEn8EfAUe"
      }
    },
    {
      "cell_type": "markdown",
      "source": [
        "**Написати програму введення та виведення даних про одержувача листа (посилки) за стандартами Укрпошти.**\n",
        "\n",
        "1. Усі запити на введення даних повинні супроводжуватись відповідними підказками-поясненнями (бажано англійською мовою).\n",
        "\n",
        "2. Дані мають виводитись так, як показано нижче (з урахуванням кількості рядків та послідовності даних у кожному з них).\n",
        "\n",
        "3. Дані, виділені жирним шрифтом, повинні вводитись із клавіатури. Всього має бути 9 окремих команд введення даних\n",
        "\n",
        "4. Назви змінних повинні бути інформативними та оформленими відповідно до правил іменування змінних\n",
        "\n",
        "5. Додати 2 коментарі, що вказують на блоки введення та виведення даних.\n",
        "\n",
        "***Формат виведення даних:***\n",
        "\n",
        "(1) **Ім'я** (2) **Прізвище**\n",
        "\n",
        "(3) **Номер телефону**\n",
        "\n",
        "Str. (4) **Назва вулиці** (5) **Номер будинку**, ap. (6) **Номер квартири**, (7) **Місто**\n",
        "\n",
        "(8) **Індекс**\n",
        "\n",
        "(9) **Країна**\n",
        "\n",
        "***Приклад виведення:***\n",
        "\n",
        "*Lucas Diallo*\n",
        "\n",
        "*3221234567*\n",
        "\n",
        "*Str. Longue 3, ap. 5, Bruxelles*\n",
        "\n",
        "*1020*\n",
        "\n",
        "*Belgium*"
      ],
      "metadata": {
        "id": "M7jjwxAvfKa2"
      }
    },
    {
      "cell_type": "code",
      "execution_count": null,
      "source": [
        "#blok vvdennya danuh\r\n",
        "\r\n",
        " #instruction\r\n",
        "print(\"Please enter your details\")\r\n",
        "\r\n",
        "name = str(input(\"Please enter your name: \"))\r\n",
        "surname = str(input(\"Your surname: \"))\r\n",
        "phnum = int(input(\"Your phonenumber: \"))\r\n",
        "\r\n",
        "strname = str(input(\"Your street name: \"))\r\n",
        "buildnum = input(\"Your number of building: \")\r\n",
        "flatnum = input(\"Your flat number: \")\r\n",
        "city = str(input(\"Your city/town/village name: \"))\r\n",
        "index = int(input(\"Index of your city/town/village: \"))\r\n",
        "country = input(\"Your country name: \")\r\n",
        "\r\n",
        "#blok vivedennya danuh\r\n",
        "print(name, surname)\r\n",
        "print(phnum)\r\n",
        "print(\"Str.\", strname, buildnum, \"ap.\", flatnum, city)\r\n",
        "print(index)\r\n",
        "print(country)"
      ],
      "outputs": [],
      "metadata": {}
    },
    {
      "cell_type": "markdown",
      "source": [
        "### **Завдання 2 (1,5 бали)**"
      ],
      "metadata": {
        "id": "WmnpKrmPf689"
      }
    },
    {
      "cell_type": "markdown",
      "source": [
        "Таблиця містить магнітуду землетрусів за шкалою Ріхтера та дескриптори, що їй відповідають.\n",
        "\n",
        "Магнітуда | Дескриптор\n",
        "--- | ---\n",
        "Менше, ніж 2 | Micro\n",
        "Від 2 до менше ніж 3 | Very minor\n",
        "Від 3 до менше ніж 4 | Minor\n",
        "Від 4 до менше ніж 5 | Light\n",
        "Від 5 до менше ніж 6 | Moderate\n",
        "Від 6 до менше ніж 7 | Strong\n",
        "Від 7 до менше ніж 8 | Major\n",
        "Від 8 до менше ніж 10 | Great\n",
        "10 та більше | Meteoric\n",
        "\n",
        "Напишіть програму, яка буде зчитувати магнітуду, введену користувачем, та виводити відповідний дескриптор як частину змістовного повідомлення. Наприклад, якщо користувач вводить 5.5, ваша програма повинна показати, що землетрус з такою магнітудою є помірним (moderate)."
      ],
      "metadata": {
        "id": "4n4p_pz7gFKM"
      }
    },
    {
      "cell_type": "code",
      "execution_count": 11,
      "source": [
        "y = float(input(\"Enter magnitude of earthquake: \"))\r\n",
        "if  0 < y < 2:\r\n",
        "    print(\"Micro earthquake\")\r\n",
        "elif 2 <= y < 3:\r\n",
        "    print(\"Very minor earthquake\")    \r\n",
        "elif 3 <= y < 4:\r\n",
        "    print(\"Minor earthquake\") \r\n",
        "elif 4 <= y < 5:\r\n",
        "    print(\"Light earthquake\")\r\n",
        "elif 5 <= y < 6:\r\n",
        "    print(\"Moderate earthquake\") \r\n",
        "elif 6 <= y < 7:\r\n",
        "    print(\"Strong earthquake\")\r\n",
        "elif 7 <= y < 8:\r\n",
        "    print(\"Major earthquake\")\r\n",
        "elif 8 <= y < 10:\r\n",
        "    print(\"Greate earthquake\")\r\n",
        "elif y >= 10:\r\n",
        "    print(\"Meteoric earthquake\")\r\n",
        "else:\r\n",
        "    print(\"Wrong numerical value\")\r\n"
      ],
      "outputs": [
        {
          "output_type": "stream",
          "name": "stdout",
          "text": [
            "Major earthquake\n"
          ]
        }
      ],
      "metadata": {
        "id": "Nv66Jkkpf-sI"
      }
    },
    {
      "cell_type": "markdown",
      "source": [
        "### **Завдання 3 (бонусне, 1 бал)**"
      ],
      "metadata": {
        "id": "X8fC_GM_nMRi"
      }
    },
    {
      "cell_type": "markdown",
      "source": [
        "Часто говорять, що один календарний рік еквівалентний 7 рокам для собаки. Однак таке просте перетворення не враховує того, що собаки досягають повноліття приблизно у 2 роки. Тому деякі люди вважать, що краще рахувати кожен з перших двох календарних років як 10,5 років для собаки, а потім рахувати кожен наступний календарний рік як 4 роки для собаки.\r\n",
        "\r\n",
        "Напишіть програму, яка конвертує календарні роки у \"собачі\", як було показано в попередньому абзаці. Переконайтесь, що ваша програма працює правильно, конвертуючи перші два календарні роки та всі подальші. Ваша програма також повинна виводити повідомлення про помилку, якщо користувач введе від'ємне число."
      ],
      "metadata": {
        "id": "b593txPwotgN"
      }
    },
    {
      "cell_type": "code",
      "execution_count": 28,
      "source": [
        "# Повні роки\r\n",
        "\r\n",
        "x = int(input(\"Age of dog in human years: \"))\r\n",
        "if x <= 0:\r\n",
        "    print(\"It's not possible\")\r\n",
        "elif 0 < x <= 2:\r\n",
        "    print(\"Sobaken age: \", (x * 10.5))\r\n",
        "elif x > 2:\r\n",
        "    print(\"Sobaken age: \", ((x-2) * 4 + 21))     "
      ],
      "outputs": [
        {
          "output_type": "stream",
          "name": "stdout",
          "text": [
            "Sobaken age:  53\n"
          ]
        }
      ],
      "metadata": {
        "id": "PA_E_H0Zosu0"
      }
    },
    {
      "cell_type": "code",
      "execution_count": 5,
      "source": [
        "# Неповні роки\r\n",
        "\r\n",
        "x = float(input(\"Age of dog in human years: \"))\r\n",
        "if x <= 0:\r\n",
        "    print(\"It's not possible\")\r\n",
        "elif 0 < x <= 2:\r\n",
        "    print(\"Sobaken age: \", (x * 10.5))  \r\n",
        "elif x > 2:\r\n",
        "    y = ((x-2) * 4 + 21)\r\n",
        "    print(y)\r\n",
        " "
      ],
      "outputs": [
        {
          "output_type": "stream",
          "name": "stdout",
          "text": [
            "Sobaken age:  15.75\n"
          ]
        }
      ],
      "metadata": {}
    }
  ]
}