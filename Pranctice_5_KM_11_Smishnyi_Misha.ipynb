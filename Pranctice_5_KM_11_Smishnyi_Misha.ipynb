{
  "nbformat": 4,
  "nbformat_minor": 2,
  "metadata": {
    "colab": {
      "name": "Pranctice_3_KM-01_<name>.ipynb",
      "provenance": [],
      "collapsed_sections": []
    },
    "kernelspec": {
      "name": "python3",
      "display_name": "Python 3.9.1 64-bit (system)"
    },
    "language_info": {
      "name": "python",
      "version": "3.9.1",
      "mimetype": "text/x-python",
      "codemirror_mode": {
        "name": "ipython",
        "version": 3
      },
      "pygments_lexer": "ipython3",
      "nbconvert_exporter": "python",
      "file_extension": ".py"
    },
    "interpreter": {
      "hash": "fe441a78662917157ee0a3bf5d35d344016f5c325e042b313a07027e8b1f32e7"
    }
  },
  "cells": [
    {
      "cell_type": "markdown",
      "source": [
        "# **Курс \"Програмування на мові Python\"**"
      ],
      "metadata": {
        "id": "1bRxWHr5e8kt"
      }
    },
    {
      "cell_type": "markdown",
      "source": [
        "## **Практичне зайняття №5**\n",
        "### Тема: \"Цикли. Робота зі списками\""
      ],
      "metadata": {
        "id": "buZUwUgFe-kx"
      }
    },
    {
      "cell_type": "markdown",
      "source": [
        "### **Завдання 1 (1,5 бали)**\n",
        "\n"
      ],
      "metadata": {
        "id": "PUkxEn8EfAUe"
      }
    },
    {
      "cell_type": "markdown",
      "source": [
        "Продавець роздрібного товару влаштовує розпродаж. Для всіх товарів знижка однакова - 60%. Щоб вивісити нові цінники, продавець хоче скласти таблицю, в якій для кожного товару буде підрахована його нова вартість та сума знижки.\r\n",
        "\r\n",
        "Написати програму, яка буде генерувати таку таблицю. Вартість одиниць товарів до розпродажу подано у списку products_list. \r\n",
        "\r\n",
        "1. Для підрахунку невідомих значень та їх виведення повинен використовуватись цикл.\r\n",
        "\r\n",
        "2. Вартість з урахуванням знижки та суми знижок для кожного товару повинні зберігатись у двох окремих списках. Порядок товарів у нових списках повинен бути такий самий, як і в списку products_list.\r\n",
        "\r\n",
        "3. Кожне підраховане числове значення має бути округлене до сотих. Для цього слід використати функцію round(). Приклад застосування цієї функції:\r\n",
        "\r\n",
        "```\r\n",
        "value_new = round(2.3741, 2)\r\n",
        "print(value_new)\r\n",
        "```\r\n",
        "\r\n",
        "4. Дані повинні виводитись у вигляді:\r\n",
        "\r\n",
        "**Discount table:**\r\n",
        "\r\n",
        "**29.25 11.7 17.55**\r\n",
        "\r\n",
        "**48.99 19.6 29.39**\r\n",
        "\r\n",
        "**...**\r\n",
        "\r\n",
        "\r\n",
        "products_list = [29.25, 48.99, 99.98, 124.65, 214.30, 543.90, 799.85]"
      ],
      "metadata": {}
    },
    {
      "cell_type": "code",
      "execution_count": 2,
      "source": [
        "pd_list = [29.25, 48.99, 99.98, 124.65, 214.30, 543.90, 799.85]\r\n",
        "v_n = [a * 0.4 for a in pd_list]\r\n",
        "v_n = [round (a, 2) for a in v_n]\r\n",
        "v_d = [a * 0.6 for a in pd_list]\r\n",
        "v_d = [round (a, 2) for a in v_d]\r\n",
        "\r\n",
        "print(\"Discount table:\")\r\n",
        "print(pd_list[0],\" \", v_n[0],\" \", v_d[0])\r\n",
        "print(pd_list[1],\" \", v_n[1],\" \", v_d[1])\r\n",
        "print(pd_list[2],\" \", v_n[2],\" \", v_d[2])\r\n",
        "print(pd_list[3],\" \", v_n[3],\" \", v_d[3])\r\n",
        "print(pd_list[4],\" \", v_n[4],\" \", v_d[4])\r\n",
        "print(pd_list[5],\" \", v_n[5],\" \", v_d[5])\r\n",
        "print(pd_list[6],\" \", v_n[6],\" \", v_d[6])"
      ],
      "outputs": [
        {
          "output_type": "stream",
          "name": "stdout",
          "text": [
            "Discount table:\n",
            "29.25   11.7   17.55\n",
            "48.99   19.6   29.39\n",
            "99.98   39.99   59.99\n",
            "124.65   49.86   74.79\n",
            "214.3   85.72   128.58\n",
            "543.9   217.56   326.34\n",
            "799.85   319.94   479.91\n"
          ]
        }
      ],
      "metadata": {}
    },
    {
      "cell_type": "markdown",
      "source": [
        "### **Завдання 2 (1,5 бали)**"
      ],
      "metadata": {}
    },
    {
      "cell_type": "markdown",
      "source": [
        "Перелічуючи деякі предмети у тексті, ми ставимо між ними коми. В англійській мові слово and зазвичай ставлять між останнім та передостаннім словом у переліку (за виключенням випадку, коли у списку всього одне слово). Також в англійській мові прийнято ставити кому перед and (оксфордська кома), якщо в переліку більше двох найменувань. Розглянемо 4 приклади:\r\n",
        "\r\n",
        "**apples**\r\n",
        "\r\n",
        "**apples and oranges**\r\n",
        "\r\n",
        "**apples, oranges, and bananas**\r\n",
        "\r\n",
        "**apples, oranges, bananas, and lemons**\r\n",
        "\r\n",
        "Напишіть програму, яка:\r\n",
        "\r\n",
        "1. отримує на вхід перелік деяких предметів, які користувач вводить з клавіатури, та записує їх у список у вигляді окремих елементів;\r\n",
        "\r\n",
        "2. виводить ці предмети у тій самій послідовності, в якій вони були введені, розставляючи коми та слово and так, як показано у прикладі."
      ],
      "metadata": {
        "id": "4n4p_pz7gFKM"
      }
    },
    {
      "cell_type": "code",
      "execution_count": 3,
      "source": [
        "a = input()\r\n",
        "b = input()\r\n",
        "c = input()\r\n",
        "f = input()\r\n",
        "if f != (\"\"):\r\n",
        "    print(a,\",\", b, \",\", c,\", \" \"and\", f)\r\n",
        "elif c != (\"\"): \r\n",
        "    print(a, \",\", b,\", and\", c)\r\n",
        "else:\r\n",
        "    print(a,\",\", b)"
      ],
      "outputs": [
        {
          "output_type": "stream",
          "name": "stdout",
          "text": [
            "strawberry , cherry , melon , and apple\n"
          ]
        }
      ],
      "metadata": {
        "id": "Nv66Jkkpf-sI"
      }
    }
  ]
}